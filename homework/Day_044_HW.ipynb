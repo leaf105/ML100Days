{
 "cells": [
  {
   "cell_type": "markdown",
   "metadata": {},
   "source": [
    "## [作業重點]\n",
    "確保你了解隨機森林模型中每個超參數的意義，並觀察調整超參數對結果的影響"
   ]
  },
  {
   "cell_type": "markdown",
   "metadata": {},
   "source": [
    "## 作業\n",
    "\n",
    "1. 試著調整 RandomForestClassifier(...) 中的參數，並觀察是否會改變結果？\n",
    "2. 改用其他資料集 (boston, wine)，並與回歸模型與決策樹的結果進行比較"
   ]
  },
  {
   "cell_type": "code",
   "execution_count": 1,
   "metadata": {},
   "outputs": [],
   "source": [
    "from sklearn import datasets, metrics\n",
    "from sklearn.ensemble import RandomForestClassifier\n",
    "from sklearn.model_selection import train_test_split"
   ]
  },
  {
   "cell_type": "code",
   "execution_count": 2,
   "metadata": {},
   "outputs": [],
   "source": [
    "wine = datasets.load_wine()\n",
    "\n",
    "# 切分訓練集/測試集\n",
    "x_train, x_test, y_train, y_test = train_test_split(wine.data, wine.target, test_size=0.25, random_state=4)\n",
    "\n",
    "# 建立模型 (使用 20 顆樹，每棵樹的最大深度為 4)\n",
    "clf = RandomForestClassifier(n_estimators=20, max_depth=4)\n",
    "\n",
    "# 訓練模型\n",
    "clf.fit(x_train, y_train)\n",
    "\n",
    "# 預測測試集\n",
    "y_pred = clf.predict(x_test)\n",
    "\n",
    "acc = metrics.accuracy_score(y_test, y_pred)"
   ]
  },
  {
   "cell_type": "code",
   "execution_count": 3,
   "metadata": {},
   "outputs": [
    {
     "name": "stdout",
     "output_type": "stream",
     "text": [
      "Accuracy:  1.0\n",
      "Feature name:\n",
      " ['alcohol', 'malic_acid', 'ash', 'alcalinity_of_ash', 'magnesium', 'total_phenols', 'flavanoids', 'nonflavanoid_phenols', 'proanthocyanins', 'color_intensity', 'hue', 'od280/od315_of_diluted_wines', 'proline']\n",
      "Feature importance:\n",
      " [0.1590492  0.03528499 0.02153922 0.04772235 0.03292263 0.03472176\n",
      " 0.15278289 0.01481994 0.00785684 0.14826252 0.07138061 0.12259203\n",
      " 0.15106502]\n"
     ]
    }
   ],
   "source": [
    "print(\"Accuracy: \", acc)\n",
    "print(\"Feature name:\\n\",wine.feature_names)\n",
    "print(\"Feature importance:\\n\", clf.feature_importances_)"
   ]
  },
  {
   "cell_type": "code",
   "execution_count": 4,
   "metadata": {},
   "outputs": [],
   "source": [
    "wine1 = datasets.load_wine()\n",
    "\n",
    "# 切分訓練集/測試集\n",
    "x_train1, x_test1, y_train1, y_test1 = train_test_split(wine1.data, wine1.target, test_size=0.25, random_state=4)\n",
    "\n",
    "# 建立模型\n",
    "clf1 = RandomForestClassifier(n_estimators=100, max_features=\"auto\",  max_depth=5, criterion=\"entropy\", min_samples_split=2, min_samples_leaf=1)\n",
    "\n",
    "# 訓練模型\n",
    "clf1.fit(x_train1, y_train1)\n",
    "\n",
    "# 預測測試集\n",
    "y_pred1 = clf1.predict(x_test1)\n",
    "\n",
    "acc1 = metrics.accuracy_score(y_test1, y_pred1)"
   ]
  },
  {
   "cell_type": "code",
   "execution_count": 5,
   "metadata": {},
   "outputs": [
    {
     "name": "stdout",
     "output_type": "stream",
     "text": [
      "Accuracy:  0.9777777777777777\n",
      "['alcohol', 'malic_acid', 'ash', 'alcalinity_of_ash', 'magnesium', 'total_phenols', 'flavanoids', 'nonflavanoid_phenols', 'proanthocyanins', 'color_intensity', 'hue', 'od280/od315_of_diluted_wines', 'proline']\n",
      "Feature importance:  [0.10295896 0.02774985 0.0123729  0.03199451 0.02455348 0.0637425\n",
      " 0.16443984 0.01151738 0.01627377 0.17975453 0.06185649 0.14943268\n",
      " 0.1533531 ]\n"
     ]
    }
   ],
   "source": [
    "print(\"Accuracy: \", acc1)\n",
    "print(wine1.feature_names)\n",
    "print(\"Feature importance: \", clf1.feature_importances_)"
   ]
  }
 ],
 "metadata": {
  "kernelspec": {
   "display_name": "Python 3",
   "language": "python",
   "name": "python3"
  },
  "language_info": {
   "codemirror_mode": {
    "name": "ipython",
    "version": 3
   },
   "file_extension": ".py",
   "mimetype": "text/x-python",
   "name": "python",
   "nbconvert_exporter": "python",
   "pygments_lexer": "ipython3",
   "version": "3.7.6"
  }
 },
 "nbformat": 4,
 "nbformat_minor": 2
}
